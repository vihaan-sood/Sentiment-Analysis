{
 "cells": [
  {
   "cell_type": "markdown",
   "metadata": {},
   "source": [
    "Using the drug-review dataset found at https://www.kaggle.com/datasets/mohamedabdelwahabali/drugreview?resource=download"
   ]
  },
  {
   "cell_type": "code",
   "execution_count": 120,
   "metadata": {},
   "outputs": [],
   "source": [
    "#pip install numpy pandas nltk cupy scikit-learn spacy\n",
    "#python -m spacy download en_core_web_sm"
   ]
  },
  {
   "cell_type": "code",
   "execution_count": 129,
   "metadata": {},
   "outputs": [
    {
     "name": "stdout",
     "output_type": "stream",
     "text": [
      "(22000, 2)\n",
      "(9200, 2)\n",
      "(5400, 2)\n"
     ]
    }
   ],
   "source": [
    "import numpy as np\n",
    "import pandas as pd\n",
    "\n",
    "\n",
    "train_raw = pd.read_csv(\"archive/drug_review_train.csv\", usecols=[\"review\", \"rating\"]).to_numpy()\n",
    "test_raw = pd.read_csv(\"archive/drug_review_test.csv\", usecols=[\"review\", \"rating\"]).to_numpy()\n",
    "val_raw = pd.read_csv(\"archive/drug_review_validation.csv\", usecols=[\"review\", \"rating\"]).to_numpy()\n",
    "\n",
    "train_raw = train_raw[:22000]       #using 20% of dataset, maintaing rough ratios \n",
    "test_raw = test_raw[:9200]  \n",
    "val_raw = val_raw[:5400]  \n",
    "\n",
    "print(train_raw.shape)\n",
    "print(test_raw.shape)\n",
    "print(val_raw.shape)"
   ]
  },
  {
   "cell_type": "code",
   "execution_count": 130,
   "metadata": {},
   "outputs": [
    {
     "name": "stdout",
     "output_type": "stream",
     "text": [
      "\"i have used restasis for about a year now and have seen almost no progress.  for most of my life i've had red and bothersome eyes. after trying various eye drops, my doctor recommended restasis.  he said it typically takes 3 to 6 months for it to really kick in but it never did kick in.  when i put the drops in it burns my eyes for the first 30 - 40 minutes.  i've talked with my doctor about this and he said it is normal but should go away after some time, but it hasn't. every year around spring time my eyes get terrible irritated  and this year has been the same (maybe even worse than other years) even though i've been using restasis for a year now. the only difference i notice was for the first couple weeks, but now i'm ready to move on.\"\n",
      "[-1 1 -1 1 1 -1 1 1 1 -1 0 -1 -1 -1 1 1 -1 -1 1 1 1 1 1 1 1 -1 1 1 1 -1 -1\n",
      " -1 1 0 0 1 1 1 0 1 -1 1 -1 0 1 1 1 1 1 1 -1 -1 1 -1 1 -1 1 1 0 1 -1 -1 -1\n",
      " 1 1 1 1 1 1 1 1 1 -1 -1 1 1 1 1 1 1 -1 1 -1 1 -1 1 1 0 1 1 1 -1 1 1 1 1\n",
      " -1 1 1 0]\n"
     ]
    }
   ],
   "source": [
    "def seperate_ratings_and_text(data):\n",
    "    text = data[:,0]\n",
    "    ratings = data[:,1]\n",
    "    return text,ratings\n",
    "\n",
    "\n",
    "train_raw_text,train_raw_ratings = seperate_ratings_and_text(train_raw)\n",
    "test_raw_text,test_raw_ratings = seperate_ratings_and_text(test_raw)\n",
    "val_raw_text,val_raw_ratings = seperate_ratings_and_text(val_raw)\n",
    "\n",
    "\n",
    "def convert_rating_to_sentiment(rating_list):\n",
    "\n",
    "    for i in range(len(rating_list)):\n",
    "        rating = int(rating_list[i] )\n",
    "        if rating >= 7:\n",
    "            rating_list[i] = 1\n",
    "        elif rating <= 4:\n",
    "            rating_list[i] = -1\n",
    "        else:\n",
    "            rating_list[i] = 0\n",
    "\n",
    "    return rating_list\n",
    "\n",
    "convert_rating_to_sentiment(train_raw_ratings)\n",
    "convert_rating_to_sentiment(test_raw_ratings)\n",
    "convert_rating_to_sentiment(val_raw_ratings)\n",
    "\n",
    "print(train_raw_text[0])\n",
    "print(train_raw_ratings[0:100])"
   ]
  },
  {
   "cell_type": "code",
   "execution_count": 131,
   "metadata": {},
   "outputs": [
    {
     "name": "stdout",
     "output_type": "stream",
     "text": [
      "i have used restasis for about a year now and have seen almost no progress for most of my life ive had red and bothersome eyes after trying various eye drops my doctor recommended restasis he said it typically takes 3 to 6 months for it to really kick in but it never did kick in when i put the drops in it burns my eyes for the first 30 40 minutes ive talked with my doctor about this and he said it is normal but should go away after some time but it hasnt every year around spring time my eyes get terrible irritated and this year has been the same maybe even worse than other years even though ive been using restasis for a year now the only difference i notice was for the first couple weeks but now im ready to move on\n"
     ]
    }
   ],
   "source": [
    "import re\n",
    "\n",
    "def clean_review(review):\n",
    "    review = re.sub(r\"[^a-zA-Z0-9\\s]\", \"\", review)\n",
    "    review = re.sub(r\"\\s+\", \" \", review) \n",
    "    review = review.lower()\n",
    "    return review\n",
    "\n",
    "def clean_text(text_list):\n",
    "    cleaned_sentences = [clean_review(sentence) for sentence in text_list]\n",
    "    return np.array(cleaned_sentences)\n",
    "\n",
    "\n",
    "\n",
    "train_cleaned = clean_text(train_raw_text)\n",
    "test_cleaned = clean_text(test_raw_text)\n",
    "val_cleaned = clean_text(val_raw_text)\n",
    "\n",
    "print(train_cleaned[0])"
   ]
  },
  {
   "cell_type": "code",
   "execution_count": 132,
   "metadata": {},
   "outputs": [],
   "source": [
    "from nltk.corpus import stopwords\n",
    "from nltk.stem import WordNetLemmatizer\n",
    "import spacy\n",
    "\n",
    "nlp = spacy.load(\"en_core_web_sm\")\n",
    "lemmatizer = WordNetLemmatizer()\n",
    "stopWords = set(stopwords.words(\"english\"))\n",
    "\n",
    "#PoS mapping\n",
    "pos_mapping = {\n",
    "    \"NOUN\": \"n\",\n",
    "    \"PROPN\": \"n\",\n",
    "    \"VERB\": \"v\",\n",
    "    \"AUX\": \"v\",\n",
    "    \"ADJ\": \"a\",\n",
    "    \"ADV\": \"r\",\n",
    "}\n",
    "\n",
    "#cache dictionary for lemmatized words with PoS\n",
    "lemmatized_cache = {}\n",
    "\n",
    "def lemmatize_word(word, pos):\n",
    "\n",
    "    key = (word, pos)  #use word and PoS as the key\n",
    "    if key in lemmatized_cache:\n",
    "        return lemmatized_cache[key]\n",
    "\n",
    "    #compute lemmatized form and cache it\n",
    "    lemmatized_word = lemmatizer.lemmatize(word, pos_mapping.get(pos, \"n\"))\n",
    "    lemmatized_cache[key] = lemmatized_word\n",
    "    return lemmatized_word\n",
    "\n",
    "def better_lemmatizer(single_sentence):\n",
    "\n",
    "    #clean the sentence (assuming clean_review is defined)\n",
    "    single_sentence = clean_review(single_sentence)\n",
    "\n",
    "    #get PoS tags for the sentence\n",
    "    text_PoS = nlp(single_sentence)\n",
    "\n",
    "    #remove stopwords, lemmatize\n",
    "    lemmatized_list = [\n",
    "        lemmatize_word(token.text.lower(), token.pos_)\n",
    "        for token in text_PoS\n",
    "        if token.text.lower() not in stopWords\n",
    "    ]\n",
    "\n",
    "    return lemmatized_list\n",
    "\n",
    "def lemmatize(data):\n",
    "\n",
    "    res = []\n",
    "    for i in range(len(data)):\n",
    "        res.append(better_lemmatizer(data[i]))\n",
    "\n",
    "    return res\n",
    "\n",
    "\n",
    "# Example usage\n",
    "train_lem = lemmatize(train_cleaned)  \n",
    "test_lem = lemmatize(test_cleaned)   \n",
    "val_lem = lemmatize(val_cleaned)    \n",
    "\n",
    "\n"
   ]
  },
  {
   "cell_type": "code",
   "execution_count": 133,
   "metadata": {},
   "outputs": [
    {
     "name": "stdout",
     "output_type": "stream",
     "text": [
      "['use restasis year see almost progress life red bothersome eye try various eye drop doctor recommend restasis say typically take 3 6 month really kick never kick put drop burn eye first 30 40 minute talk doctor say normal go away time nt every year around spring time eye get terrible irritated year maybe even bad year even though use restasis year difference notice first couple week ready move', 'experience somewhat mixed use implanon nearly 14 month decide get remove bleed every day day would occasionally stain underwear sheet nt start way first month nt bleed epic two week period everything irregular basically new norm sadly decide get rid implanon endless bleeding mention bleeding usually pretty light bit spot quite period either endless bleeding pretty side effect free except minor acne nt get pregnant yeah butblood lot blood']\n",
      "22000\n",
      "['try antidepressant year citalopram fluoxetine amitriptyline none help depression insomnia anxiety doctor suggest change onto 45 mg mirtazapine medicine save life thankfully side effect especially common weight gain actually lose alot weight still suicidal thought mirtazapine save', 'son crohn disease do well asacol complaint show side effect take many nine tablet per day one time happy result reduce bout diarrhea drastically']\n",
      "9200\n"
     ]
    }
   ],
   "source": [
    "train_lem_str = [\" \".join(row) for row in train_lem]\n",
    "test_lem_str = [\" \".join(row) for row in test_lem]\n",
    "val_lem_str = [\" \".join(row) for row in val_lem]\n",
    "\n",
    "print(train_lem_str[0:2])\n",
    "print(len(train_lem_str))\n",
    "print(test_lem_str[0:2])\n",
    "print(len(test_lem_str))"
   ]
  },
  {
   "cell_type": "code",
   "execution_count": 152,
   "metadata": {},
   "outputs": [],
   "source": [
    "from sklearn.feature_extraction.text import CountVectorizer,TfidfVectorizer\n",
    "\n",
    "vectorizer = TfidfVectorizer(ngram_range=(1,3),max_features=60000)\n",
    "\n",
    "train_count = vectorizer.fit_transform(train_lem_str)\n",
    "test_count = vectorizer.transform(test_lem_str)\n",
    "\n",
    "val_count = vectorizer.transform(val_lem_str)"
   ]
  },
  {
   "cell_type": "code",
   "execution_count": 153,
   "metadata": {},
   "outputs": [
    {
     "name": "stdout",
     "output_type": "stream",
     "text": [
      "['0025' '005' '01' ... 'zyrtec' 'zyrtec claritin' 'zyvox']\n",
      "(22000, 60000)\n",
      "(9200, 60000)\n",
      "<Compressed Sparse Row sparse matrix of dtype 'float64'\n",
      "\twith 86 stored elements and shape (1, 60000)>\n",
      "  Coords\tValues\n",
      "  (0, 55007)\t0.0782652366046615\n",
      "  (0, 43713)\t0.3905098816753789\n",
      "  (0, 59138)\t0.15826783413160608\n",
      "  (0, 44820)\t0.05196490004945877\n",
      "  (0, 2982)\t0.05091969062790188\n",
      "  (0, 41892)\t0.09819157006651072\n",
      "  (0, 28489)\t0.0448272041263182\n",
      "  (0, 43209)\t0.0788331825125084\n",
      "  (0, 7411)\t0.11265263742439997\n",
      "  (0, 17578)\t0.2966802735455527\n",
      "  (0, 53990)\t0.03967630388119018\n",
      "  (0, 55554)\t0.09738205231558633\n",
      "  (0, 14418)\t0.14882005901887777\n",
      "  (0, 13627)\t0.08126389439744283\n",
      "  (0, 43072)\t0.050701717002484235\n",
      "  (0, 44364)\t0.0913551774505362\n",
      "  (0, 54654)\t0.10884915093107465\n",
      "  (0, 50356)\t0.023911480007773038\n",
      "  (0, 33054)\t0.03187234107363963\n",
      "  (0, 42719)\t0.045188683533364374\n",
      "  (0, 27155)\t0.1585111290871082\n",
      "  (0, 35011)\t0.04548217105830427\n",
      "  (0, 42121)\t0.05014925456112923\n",
      "  (0, 7816)\t0.07093645010943733\n",
      "  (0, 19211)\t0.07159437175675008\n",
      "  :\t:\n",
      "  (0, 1380)\t0.12038366334968721\n",
      "  (0, 51625)\t0.09211064861526563\n",
      "  (0, 13820)\t0.07969007401717539\n",
      "  (0, 44486)\t0.1106317234173673\n",
      "  (0, 35814)\t0.13934344636972273\n",
      "  (0, 21922)\t0.06149811528008801\n",
      "  (0, 5190)\t0.11900686245510221\n",
      "  (0, 53164)\t0.09103683852288634\n",
      "  (0, 16826)\t0.11658017685636188\n",
      "  (0, 17594)\t0.1316124204444355\n",
      "  (0, 21407)\t0.11181162252625344\n",
      "  (0, 59465)\t0.1316124204444355\n",
      "  (0, 31077)\t0.12449920984256789\n",
      "  (0, 16295)\t0.10375685433623973\n",
      "  (0, 6036)\t0.1177449340192349\n",
      "  (0, 59330)\t0.12449920984256789\n",
      "  (0, 16437)\t0.0815094250726679\n",
      "  (0, 36083)\t0.12652012384960057\n",
      "  (0, 19263)\t0.08864474579355584\n",
      "  (0, 10486)\t0.08568030754594395\n",
      "  (0, 51044)\t0.13934344636972273\n",
      "  (0, 51629)\t0.13934344636972273\n",
      "  (0, 13827)\t0.11715135308654626\n",
      "  (0, 21978)\t0.12038366334968721\n",
      "  (0, 19268)\t0.10851651394156811\n"
     ]
    }
   ],
   "source": [
    "print(vectorizer.get_feature_names_out())\n",
    "print(train_count.shape)\n",
    "print(test_count.shape)\n",
    "print(train_count[0])"
   ]
  },
  {
   "cell_type": "code",
   "execution_count": 154,
   "metadata": {},
   "outputs": [
    {
     "name": "stdout",
     "output_type": "stream",
     "text": [
      "Test Set Evaluation:\n",
      "Accuracy: 0.673695652173913\n",
      "\n",
      "Classification Report:\n",
      "              precision    recall  f1-score   support\n",
      "\n",
      "          -1       0.96      0.06      0.12      2325\n",
      "           0       0.00      0.00      0.00       823\n",
      "           1       0.67      1.00      0.80      6052\n",
      "\n",
      "    accuracy                           0.67      9200\n",
      "   macro avg       0.54      0.35      0.31      9200\n",
      "weighted avg       0.68      0.67      0.56      9200\n",
      "\n"
     ]
    },
    {
     "name": "stderr",
     "output_type": "stream",
     "text": [
      "c:\\Users\\vihaa\\Documents\\GitHub (not onedrive)\\Sentiment-Analysis\\.venv\\Lib\\site-packages\\sklearn\\metrics\\_classification.py:1565: UndefinedMetricWarning: Precision is ill-defined and being set to 0.0 in labels with no predicted samples. Use `zero_division` parameter to control this behavior.\n",
      "  _warn_prf(average, modifier, f\"{metric.capitalize()} is\", len(result))\n",
      "c:\\Users\\vihaa\\Documents\\GitHub (not onedrive)\\Sentiment-Analysis\\.venv\\Lib\\site-packages\\sklearn\\metrics\\_classification.py:1565: UndefinedMetricWarning: Precision is ill-defined and being set to 0.0 in labels with no predicted samples. Use `zero_division` parameter to control this behavior.\n",
      "  _warn_prf(average, modifier, f\"{metric.capitalize()} is\", len(result))\n",
      "c:\\Users\\vihaa\\Documents\\GitHub (not onedrive)\\Sentiment-Analysis\\.venv\\Lib\\site-packages\\sklearn\\metrics\\_classification.py:1565: UndefinedMetricWarning: Precision is ill-defined and being set to 0.0 in labels with no predicted samples. Use `zero_division` parameter to control this behavior.\n",
      "  _warn_prf(average, modifier, f\"{metric.capitalize()} is\", len(result))\n"
     ]
    }
   ],
   "source": [
    "from sklearn.naive_bayes import MultinomialNB\n",
    "from sklearn.metrics import classification_report, accuracy_score\n",
    "\n",
    "model = MultinomialNB()\n",
    "model.fit(train_count, train_raw_ratings.astype(int))\n",
    "\n",
    "test_predictions = model.predict(test_count)\n",
    "\n",
    "print(\"Test Set Evaluation:\")\n",
    "print(\"Accuracy:\", accuracy_score(test_raw_ratings.astype(int), test_predictions))\n",
    "print(\"\\nClassification Report:\")\n",
    "print(classification_report(test_raw_ratings.astype(int), test_predictions))"
   ]
  }
 ],
 "metadata": {
  "kernelspec": {
   "display_name": ".venv",
   "language": "python",
   "name": "python3"
  },
  "language_info": {
   "codemirror_mode": {
    "name": "ipython",
    "version": 3
   },
   "file_extension": ".py",
   "mimetype": "text/x-python",
   "name": "python",
   "nbconvert_exporter": "python",
   "pygments_lexer": "ipython3",
   "version": "3.11.9"
  }
 },
 "nbformat": 4,
 "nbformat_minor": 2
}
