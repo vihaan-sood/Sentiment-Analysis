{
 "cells": [
  {
   "cell_type": "markdown",
   "metadata": {},
   "source": [
    "Using the drug-review dataset found at https://www.kaggle.com/datasets/mohamedabdelwahabali/drugreview?resource=download"
   ]
  },
  {
   "cell_type": "code",
   "execution_count": 23,
   "metadata": {},
   "outputs": [
    {
     "name": "stdout",
     "output_type": "stream",
     "text": [
      "(110811, 2)\n",
      "(46108, 2)\n",
      "(27703, 2)\n"
     ]
    }
   ],
   "source": [
    "import numpy as np\n",
    "import pandas as pd\n",
    "\n",
    "\n",
    "train_raw = pd.read_csv(\"archive/drug_review_train.csv\", usecols=[\"review\", \"rating\"]).to_numpy()\n",
    "test_raw = pd.read_csv(\"archive/drug_review_test.csv\", usecols=[\"review\", \"rating\"]).to_numpy()\n",
    "val_raw = pd.read_csv(\"archive/drug_review_validation.csv\", usecols=[\"review\", \"rating\"]).to_numpy()\n",
    "\n",
    "\n",
    "print(train_raw.shape)\n",
    "print(test_raw.shape)\n",
    "print(val_raw.shape)"
   ]
  },
  {
   "cell_type": "code",
   "execution_count": 29,
   "metadata": {},
   "outputs": [
    {
     "name": "stdout",
     "output_type": "stream",
     "text": [
      "['\"i have used restasis for about a year now and have seen almost no progress.  for most of my life i\\'ve had red and bothersome eyes. after trying various eye drops, my doctor recommended restasis.  he said it typically takes 3 to 6 months for it to really kick in but it never did kick in.  when i put the drops in it burns my eyes for the first 30 - 40 minutes.  i\\'ve talked with my doctor about this and he said it is normal but should go away after some time, but it hasn\\'t. every year around spring time my eyes get terrible irritated  and this year has been the same (maybe even worse than other years) even though i\\'ve been using restasis for a year now. the only difference i notice was for the first couple weeks, but now i\\'m ready to move on.\"'\n",
      " '\"my experience has been somewhat mixed. i have been using implanon now for nearly 14 months and have decided to get it removed because i bleed every day, all day. i would occasionally stain my underwear and my sheets. it didn\\'t start out that way, for the first month i didn\\'t bleed at all, then i had an epic two week period, then everything was irregular, which has basically been my new norm, sadly. \\r\\r\\n\\r\\r\\ni decided to get rid of the implanon because of the endless bleeding. i should mention that the bleeding was usually pretty light, a bit more than spotting but not quite a period either. other than the endless bleeding, i\\'ve been pretty side effect free, except for minor acne.\\r\\r\\n\\r\\r\\ni didn\\'t get pregnant on it, so yeah! but...blood, a lot of blood.\"'\n",
      " '\"this is my second implanon would not recommend at all....first one was okay for the first 2 years until i started bleeding which never stopped when i woke in the morning i would stand up and be absolutely covered in blood it was that bad.....i lost 2 stone in weight my mood swings were all over the place and it affected my relationship. i was advised to have that one removed and another one inserted which i did which i\\'m into the second year now and it\\'s starting all over again! the only good thing about this is the reliability that your not going to get pregnant if there\\'s ever a chance that you can have a quick fumble in between periods!! it gets me so down i can be off in the morning and on again at night.....so frustrating\"'\n",
      " '\"i recommend taking as prescribed, and the bottle usually says \"take x amount every x hours\". i think that having a steady stream of any medication is the only way to have it work. this medication\\'s only side effect i have found is almost exactly like when one takes benadryl, and only when you are first starting out on it. i am used to it now after 3 weeks and the only effect i notice is that my hands no longer shake and my mind is at ease. much better and smoother than other meds like xanax or tramadol or klonopin, etc., etc. \"'\n",
      " '\"i have been on ampyra for 5 days and have been so happy with this new pill. the first 2 days were not good with the side effects, but each day just gets better. i am able to walk better (without dragging my left foot) and get up from a kneeling position without to much effort. this new medicine has given me a new outlook on my future. thank you for this medical wonder!\"']\n",
      "[2.0 7.0 1.0 10.0 9.0]\n"
     ]
    }
   ],
   "source": [
    "def seperate_ratings_and_text(data):\n",
    "    text = data[:,0]\n",
    "    ratings = data[:,1]\n",
    "    return text,ratings\n",
    "\n",
    "\n",
    "train_raw_text,train_raw_ratings = seperate_ratings_and_text(train_raw)\n",
    "test_raw_text,test_raw_ratings = seperate_ratings_and_text(test_raw)\n",
    "val_raw_text,val_raw_ratings = seperate_ratings_and_text(val_raw)\n",
    "\n",
    "print(train_raw_text[0:5])\n",
    "print(train_raw_ratings[0:5])"
   ]
  },
  {
   "cell_type": "code",
   "execution_count": 38,
   "metadata": {},
   "outputs": [
    {
     "name": "stdout",
     "output_type": "stream",
     "text": [
      "['i have used restasis for about a year now and have seen almost no progress for most of my life ive had red and bothersome eyes after trying various eye drops my doctor recommended restasis he said it typically takes 3 to 6 months for it to really kick in but it never did kick in when i put the drops in it burns my eyes for the first 30 40 minutes ive talked with my doctor about this and he said it is normal but should go away after some time but it hasnt every year around spring time my eyes get terrible irritated and this year has been the same maybe even worse than other years even though ive been using restasis for a year now the only difference i notice was for the first couple weeks but now im ready to move on'\n",
      " 'my experience has been somewhat mixed i have been using implanon now for nearly 14 months and have decided to get it removed because i bleed every day all day i would occasionally stain my underwear and my sheets it didnt start out that way for the first month i didnt bleed at all then i had an epic two week period then everything was irregular which has basically been my new norm sadly i decided to get rid of the implanon because of the endless bleeding i should mention that the bleeding was usually pretty light a bit more than spotting but not quite a period either other than the endless bleeding ive been pretty side effect free except for minor acne i didnt get pregnant on it so yeah butblood a lot of blood'\n",
      " 'this is my second implanon would not recommend at allfirst one was okay for the first 2 years until i started bleeding which never stopped when i woke in the morning i would stand up and be absolutely covered in blood it was that badi lost 2 stone in weight my mood swings were all over the place and it affected my relationship i was advised to have that one removed and another one inserted which i did which im into the second year now and its starting all over again the only good thing about this is the reliability that your not going to get pregnant if theres ever a chance that you can have a quick fumble in between periods it gets me so down i can be off in the morning and on again at nightso frustrating'\n",
      " 'i recommend taking as prescribed and the bottle usually says take x amount every x hours i think that having a steady stream of any medication is the only way to have it work this medications only side effect i have found is almost exactly like when one takes benadryl and only when you are first starting out on it i am used to it now after 3 weeks and the only effect i notice is that my hands no longer shake and my mind is at ease much better and smoother than other meds like xanax or tramadol or klonopin etc etc '\n",
      " 'i have been on ampyra for 5 days and have been so happy with this new pill the first 2 days were not good with the side effects but each day just gets better i am able to walk better without dragging my left foot and get up from a kneeling position without to much effort this new medicine has given me a new outlook on my future thank you for this medical wonder']\n"
     ]
    }
   ],
   "source": [
    "import re\n",
    "\n",
    "def clean_review(review):\n",
    "    review = re.sub(r\"[^a-zA-Z0-9\\s]\", \"\", review)\n",
    "    review = re.sub(r\"\\s+\", \" \", review) \n",
    "    review = review.lower()\n",
    "    return review\n",
    "\n",
    "def clean_text(text_list):\n",
    "    cleaned_sentences = [clean_review(sentence) for sentence in text_list]\n",
    "    return np.array(cleaned_sentences)\n",
    "\n",
    "\n",
    "\n",
    "train_cleaned = clean_text(train_raw_text)\n",
    "test_cleaned = clean_text(test_raw_text)\n",
    "val_cleaned = clean_text(val_raw_text)\n",
    "\n",
    "print(train_cleaned[0:5])"
   ]
  },
  {
   "cell_type": "code",
   "execution_count": 49,
   "metadata": {},
   "outputs": [],
   "source": [
    "from nltk.corpus import stopwords\n",
    "from nltk.stem import WordNetLemmatizer\n",
    "\n",
    "lemmatizer = WordNetLemmatizer()\n",
    "\n",
    "def lemmatize_sentence(sentence):\n",
    "    words = sentence.split(\" \")\n",
    "\n",
    "    lemmatized_words = [lemmatizer.lemmatize(word) for word in words]\n",
    "\n",
    "    return lemmatized_words\n",
    "\n",
    "def lemmatize(data):\n",
    "\n",
    "    result = [lemmatize_sentence(sentence) for sentence in data]\n",
    "    return result                                                               #cant be np array as varying length\n",
    "\n",
    "train_lem = lemmatize(train_cleaned)\n",
    "test_lem = lemmatize(test_cleaned)\n",
    "val_lem = lemmatize(val_cleaned)\n"
   ]
  },
  {
   "cell_type": "code",
   "execution_count": 52,
   "metadata": {},
   "outputs": [
    {
     "name": "stdout",
     "output_type": "stream",
     "text": [
      "[['i', 'have', 'used', 'restasis', 'for', 'about', 'a', 'year', 'now', 'and', 'have', 'seen', 'almost', 'no', 'progress', 'for', 'most', 'of', 'my', 'life', 'ive', 'had', 'red', 'and', 'bothersome', 'eye', 'after', 'trying', 'various', 'eye', 'drop', 'my', 'doctor', 'recommended', 'restasis', 'he', 'said', 'it', 'typically', 'take', '3', 'to', '6', 'month', 'for', 'it', 'to', 'really', 'kick', 'in', 'but', 'it', 'never', 'did', 'kick', 'in', 'when', 'i', 'put', 'the', 'drop', 'in', 'it', 'burn', 'my', 'eye', 'for', 'the', 'first', '30', '40', 'minute', 'ive', 'talked', 'with', 'my', 'doctor', 'about', 'this', 'and', 'he', 'said', 'it', 'is', 'normal', 'but', 'should', 'go', 'away', 'after', 'some', 'time', 'but', 'it', 'hasnt', 'every', 'year', 'around', 'spring', 'time', 'my', 'eye', 'get', 'terrible', 'irritated', 'and', 'this', 'year', 'ha', 'been', 'the', 'same', 'maybe', 'even', 'worse', 'than', 'other', 'year', 'even', 'though', 'ive', 'been', 'using', 'restasis', 'for', 'a', 'year', 'now', 'the', 'only', 'difference', 'i', 'notice', 'wa', 'for', 'the', 'first', 'couple', 'week', 'but', 'now', 'im', 'ready', 'to', 'move', 'on'], ['my', 'experience', 'ha', 'been', 'somewhat', 'mixed', 'i', 'have', 'been', 'using', 'implanon', 'now', 'for', 'nearly', '14', 'month', 'and', 'have', 'decided', 'to', 'get', 'it', 'removed', 'because', 'i', 'bleed', 'every', 'day', 'all', 'day', 'i', 'would', 'occasionally', 'stain', 'my', 'underwear', 'and', 'my', 'sheet', 'it', 'didnt', 'start', 'out', 'that', 'way', 'for', 'the', 'first', 'month', 'i', 'didnt', 'bleed', 'at', 'all', 'then', 'i', 'had', 'an', 'epic', 'two', 'week', 'period', 'then', 'everything', 'wa', 'irregular', 'which', 'ha', 'basically', 'been', 'my', 'new', 'norm', 'sadly', 'i', 'decided', 'to', 'get', 'rid', 'of', 'the', 'implanon', 'because', 'of', 'the', 'endless', 'bleeding', 'i', 'should', 'mention', 'that', 'the', 'bleeding', 'wa', 'usually', 'pretty', 'light', 'a', 'bit', 'more', 'than', 'spotting', 'but', 'not', 'quite', 'a', 'period', 'either', 'other', 'than', 'the', 'endless', 'bleeding', 'ive', 'been', 'pretty', 'side', 'effect', 'free', 'except', 'for', 'minor', 'acne', 'i', 'didnt', 'get', 'pregnant', 'on', 'it', 'so', 'yeah', 'butblood', 'a', 'lot', 'of', 'blood']]\n",
      "110811\n"
     ]
    }
   ],
   "source": [
    "print(train_lem[0:2])\n",
    "print(len(train_lem))"
   ]
  }
 ],
 "metadata": {
  "kernelspec": {
   "display_name": ".venv",
   "language": "python",
   "name": "python3"
  },
  "language_info": {
   "codemirror_mode": {
    "name": "ipython",
    "version": 3
   },
   "file_extension": ".py",
   "mimetype": "text/x-python",
   "name": "python",
   "nbconvert_exporter": "python",
   "pygments_lexer": "ipython3",
   "version": "3.11.9"
  }
 },
 "nbformat": 4,
 "nbformat_minor": 2
}
