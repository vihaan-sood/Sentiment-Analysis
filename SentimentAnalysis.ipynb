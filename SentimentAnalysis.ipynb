{
 "cells": [
  {
   "cell_type": "markdown",
   "metadata": {},
   "source": [
    "Using the drug-review dataset found at https://www.kaggle.com/datasets/mohamedabdelwahabali/drugreview?resource=download"
   ]
  },
  {
   "cell_type": "code",
   "execution_count": 14,
   "metadata": {},
   "outputs": [],
   "source": [
    "#pip install numpy pandas nltk cupy scikit-learn spacy\n",
    "#python -m spacy download en_core_web_sm"
   ]
  },
  {
   "cell_type": "code",
   "execution_count": 15,
   "metadata": {},
   "outputs": [
    {
     "name": "stdout",
     "output_type": "stream",
     "text": [
      "(11000, 2)\n",
      "(4600, 2)\n",
      "(2700, 2)\n"
     ]
    }
   ],
   "source": [
    "import numpy as np\n",
    "import pandas as pd\n",
    "\n",
    "\n",
    "train_raw = pd.read_csv(\"archive/drug_review_train.csv\", usecols=[\"review\", \"rating\"]).to_numpy()\n",
    "test_raw = pd.read_csv(\"archive/drug_review_test.csv\", usecols=[\"review\", \"rating\"]).to_numpy()\n",
    "val_raw = pd.read_csv(\"archive/drug_review_validation.csv\", usecols=[\"review\", \"rating\"]).to_numpy()\n",
    "\n",
    "train_raw = train_raw[:11000]       #using 10% of dataset, maintaing rough ratios \n",
    "test_raw = test_raw[:4600]\n",
    "val_raw = test_raw[:2700]\n",
    "\n",
    "print(train_raw.shape)\n",
    "print(test_raw.shape)\n",
    "print(val_raw.shape)"
   ]
  },
  {
   "cell_type": "code",
   "execution_count": 16,
   "metadata": {},
   "outputs": [
    {
     "name": "stdout",
     "output_type": "stream",
     "text": [
      "\"i have used restasis for about a year now and have seen almost no progress.  for most of my life i've had red and bothersome eyes. after trying various eye drops, my doctor recommended restasis.  he said it typically takes 3 to 6 months for it to really kick in but it never did kick in.  when i put the drops in it burns my eyes for the first 30 - 40 minutes.  i've talked with my doctor about this and he said it is normal but should go away after some time, but it hasn't. every year around spring time my eyes get terrible irritated  and this year has been the same (maybe even worse than other years) even though i've been using restasis for a year now. the only difference i notice was for the first couple weeks, but now i'm ready to move on.\"\n",
      "2.0\n"
     ]
    }
   ],
   "source": [
    "def seperate_ratings_and_text(data):\n",
    "    text = data[:,0]\n",
    "    ratings = data[:,1]\n",
    "    return text,ratings\n",
    "\n",
    "\n",
    "train_raw_text,train_raw_ratings = seperate_ratings_and_text(train_raw)\n",
    "test_raw_text,test_raw_ratings = seperate_ratings_and_text(test_raw)\n",
    "val_raw_text,val_raw_ratings = seperate_ratings_and_text(val_raw)\n",
    "\n",
    "print(train_raw_text[0])\n",
    "print(train_raw_ratings[0])"
   ]
  },
  {
   "cell_type": "code",
   "execution_count": 34,
   "metadata": {},
   "outputs": [
    {
     "name": "stdout",
     "output_type": "stream",
     "text": [
      "i have used restasis for about a year now and have seen almost no progress for most of my life ive had red and bothersome eyes after trying various eye drops my doctor recommended restasis he said it typically takes 3 to 6 months for it to really kick in but it never did kick in when i put the drops in it burns my eyes for the first 30 40 minutes ive talked with my doctor about this and he said it is normal but should go away after some time but it hasnt every year around spring time my eyes get terrible irritated and this year has been the same maybe even worse than other years even though ive been using restasis for a year now the only difference i notice was for the first couple weeks but now im ready to move on\n"
     ]
    }
   ],
   "source": [
    "import re\n",
    "\n",
    "def clean_review(review):\n",
    "    review = re.sub(r\"[^a-zA-Z0-9\\s]\", \"\", review)\n",
    "    review = re.sub(r\"\\s+\", \" \", review) \n",
    "    review = review.lower()\n",
    "    return review\n",
    "\n",
    "def clean_text(text_list):\n",
    "    cleaned_sentences = [clean_review(sentence) for sentence in text_list]\n",
    "    return np.array(cleaned_sentences)\n",
    "\n",
    "\n",
    "\n",
    "train_cleaned = clean_text(train_raw_text)\n",
    "test_cleaned = clean_text(test_raw_text)\n",
    "val_cleaned = clean_text(val_raw_text)\n",
    "\n",
    "print(train_cleaned[0])"
   ]
  },
  {
   "cell_type": "code",
   "execution_count": 53,
   "metadata": {},
   "outputs": [],
   "source": [
    "from nltk.corpus import stopwords\n",
    "from nltk.stem import WordNetLemmatizer\n",
    "import spacy\n",
    "\n",
    "nlp = spacy.load(\"en_core_web_sm\")\n",
    "lemmatizer = WordNetLemmatizer()\n",
    "stopWords = set(stopwords.words(\"english\"))\n",
    "\n",
    "#PoS mapping\n",
    "pos_mapping = {\n",
    "    \"NOUN\": \"n\",\n",
    "    \"PROPN\": \"n\",\n",
    "    \"VERB\": \"v\",\n",
    "    \"AUX\": \"v\",\n",
    "    \"ADJ\": \"a\",\n",
    "    \"ADV\": \"r\",\n",
    "}\n",
    "\n",
    "#cache dictionary for lemmatized words with PoS\n",
    "lemmatized_cache = {}\n",
    "\n",
    "def lemmatize_word(word, pos):\n",
    "\n",
    "    key = (word, pos)  #use word and PoS as the key\n",
    "    if key in lemmatized_cache:\n",
    "        return lemmatized_cache[key]\n",
    "\n",
    "    #compute lemmatized form and cache it\n",
    "    lemmatized_word = lemmatizer.lemmatize(word, pos_mapping.get(pos, \"n\"))\n",
    "    lemmatized_cache[key] = lemmatized_word\n",
    "    return lemmatized_word\n",
    "\n",
    "def better_lemmatizer(single_sentence):\n",
    "\n",
    "    #clean the sentence (assuming clean_review is defined)\n",
    "    single_sentence = clean_review(single_sentence)\n",
    "\n",
    "    #get PoS tags for the sentence\n",
    "    text_PoS = nlp(single_sentence)\n",
    "\n",
    "    #remove stopwords, lemmatize\n",
    "    lemmatized_list = [\n",
    "        lemmatize_word(token.text.lower(), token.pos_)\n",
    "        for token in text_PoS\n",
    "        if token.text.lower() not in stopWords\n",
    "    ]\n",
    "\n",
    "    return lemmatized_list\n",
    "\n",
    "def lemmatize(data):\n",
    "\n",
    "    res = []\n",
    "    for i in range(len(data)):\n",
    "        res.append(better_lemmatizer(data[i]))\n",
    "\n",
    "    return res\n",
    "\n",
    "\n",
    "# Example usage\n",
    "train_lem = lemmatize(train_cleaned)  \n",
    "test_lem = lemmatize(test_cleaned)   \n",
    "val_lem = lemmatize(val_cleaned)    \n",
    "\n",
    "\n"
   ]
  },
  {
   "cell_type": "code",
   "execution_count": 66,
   "metadata": {},
   "outputs": [
    {
     "name": "stdout",
     "output_type": "stream",
     "text": [
      "['use restasis year see almost progress life red bothersome eye try various eye drop doctor recommend restasis say typically take 3 6 month really kick never kick put drop burn eye first 30 40 minute talk doctor say normal go away time nt every year around spring time eye get terrible irritated year maybe even bad year even though use restasis year difference notice first couple week ready move', 'experience somewhat mixed use implanon nearly 14 month decide get remove bleed every day day would occasionally stain underwear sheet nt start way first month nt bleed epic two week period everything irregular basically new norm sadly decide get rid implanon endless bleeding mention bleeding usually pretty light bit spot quite period either endless bleeding pretty side effect free except minor acne nt get pregnant yeah butblood lot blood']\n",
      "11000\n",
      "['try antidepressant year citalopram fluoxetine amitriptyline none help depression insomnia anxiety doctor suggest change onto 45 mg mirtazapine medicine save life thankfully side effect especially common weight gain actually lose alot weight still suicidal thought mirtazapine save', 'son crohn disease do well asacol complaint show side effect take many nine tablet per day one time happy result reduce bout diarrhea drastically']\n",
      "4600\n"
     ]
    }
   ],
   "source": [
    "train_lem_str = [\" \".join(row) for row in train_lem]\n",
    "test_lem_str = [\" \".join(row) for row in test_lem]\n",
    "val_lem_str = [\" \".join(row) for row in val_lem]\n",
    "\n",
    "print(train_lem_str[0:2])\n",
    "print(len(train_lem_str))\n",
    "print(test_lem_str[0:2])\n",
    "print(len(test_lem_str))"
   ]
  },
  {
   "cell_type": "code",
   "execution_count": 75,
   "metadata": {},
   "outputs": [],
   "source": [
    "from sklearn.feature_extraction.text import CountVectorizer,TfidfVectorizer\n",
    "\n",
    "vectorizer = TfidfVectorizer(ngram_range=(1, 3),max_features=10000)\n",
    "\n",
    "train_count = vectorizer.fit_transform(train_lem_str)\n",
    "test_count = vectorizer.transform(test_lem_str)\n",
    "\n",
    "val_count = vectorizer.transform(val_lem_str)"
   ]
  },
  {
   "cell_type": "code",
   "execution_count": 76,
   "metadata": {},
   "outputs": [
    {
     "name": "stdout",
     "output_type": "stream",
     "text": [
      "['01' '025' '025 mg' ... 'zpack' 'zyban' 'zyprexa']\n",
      "(11000, 10000)\n",
      "(4600, 10000)\n",
      "<Compressed Sparse Row sparse matrix of dtype 'float64'\n",
      "\twith 69 stored elements and shape (1, 10000)>\n",
      "  Coords\tValues\n",
      "  (0, 9207)\t0.1042577771129171\n",
      "  (0, 9856)\t0.20895476155025433\n",
      "  (0, 7417)\t0.06812218393910141\n",
      "  (0, 579)\t0.06740122310013714\n",
      "  (0, 6926)\t0.13427023398369822\n",
      "  (0, 4700)\t0.059727594115233734\n",
      "  (0, 7136)\t0.10410217339224248\n",
      "  (0, 1262)\t0.1493161721931269\n",
      "  (0, 2951)\t0.3913643797244858\n",
      "  (0, 9021)\t0.05320613583386595\n",
      "  (0, 9283)\t0.1317811385664397\n",
      "  (0, 2437)\t0.19855999080920436\n",
      "  (0, 2292)\t0.10777820986934099\n",
      "  (0, 7114)\t0.06726768185103153\n",
      "  (0, 7345)\t0.12043457719642042\n",
      "  (0, 9127)\t0.13903016759772524\n",
      "  (0, 8350)\t0.031731561475911566\n",
      "  (0, 5498)\t0.04208822844772661\n",
      "  (0, 7061)\t0.060446339351779454\n",
      "  (0, 4510)\t0.20940658763481726\n",
      "  (0, 5799)\t0.060609605425929594\n",
      "  (0, 6976)\t0.0673057462079806\n",
      "  (0, 1342)\t0.09554670890043439\n",
      "  (0, 3208)\t0.09446890792220707\n",
      "  (0, 225)\t0.08042347294222574\n",
      "  :\t:\n",
      "  (0, 5962)\t0.07014477858064182\n",
      "  (0, 1784)\t0.07974082998129423\n",
      "  (0, 9419)\t0.045057444145708364\n",
      "  (0, 7051)\t0.1154002522444484\n",
      "  (0, 5656)\t0.09546941115165443\n",
      "  (0, 2952)\t0.1516878559725939\n",
      "  (0, 2321)\t0.12346118598545791\n",
      "  (0, 8497)\t0.10874400673323469\n",
      "  (0, 5575)\t0.13535893365061513\n",
      "  (0, 275)\t0.15748063335411627\n",
      "  (0, 8600)\t0.12196894498057387\n",
      "  (0, 2322)\t0.10470329381740863\n",
      "  (0, 7363)\t0.14527545927730084\n",
      "  (0, 3680)\t0.08174496177791499\n",
      "  (0, 8874)\t0.12196894498057387\n",
      "  (0, 2808)\t0.152987406140237\n",
      "  (0, 3599)\t0.14527545927730084\n",
      "  (0, 2731)\t0.14041941073696493\n",
      "  (0, 1026)\t0.1471946287587146\n",
      "  (0, 9885)\t0.1592326978198126\n",
      "  (0, 2750)\t0.10830143861410917\n",
      "  (0, 3214)\t0.11805941193475425\n",
      "  (0, 1791)\t0.1136136194632582\n",
      "  (0, 2323)\t0.15586889028436074\n",
      "  (0, 3217)\t0.1435233948116045\n"
     ]
    }
   ],
   "source": [
    "print(vectorizer.get_feature_names_out())\n",
    "print(train_count.shape)\n",
    "print(test_count.shape)\n",
    "print(train_count[0])"
   ]
  },
  {
   "cell_type": "code",
   "execution_count": 79,
   "metadata": {},
   "outputs": [
    {
     "name": "stdout",
     "output_type": "stream",
     "text": [
      "Test Set Evaluation:\n",
      "Accuracy: 0.3393478260869565\n",
      "\n",
      "Classification Report:\n",
      "              precision    recall  f1-score   support\n",
      "\n",
      "           1       0.57      0.22      0.32       617\n",
      "           2       0.00      0.00      0.00       207\n",
      "           3       0.00      0.00      0.00       205\n",
      "           4       0.00      0.00      0.00       133\n",
      "           5       0.00      0.00      0.00       228\n",
      "           6       0.00      0.00      0.00       159\n",
      "           7       0.00      0.00      0.00       262\n",
      "           8       0.00      0.00      0.00       540\n",
      "           9       0.26      0.03      0.05       834\n",
      "          10       0.33      0.99      0.49      1415\n",
      "\n",
      "    accuracy                           0.34      4600\n",
      "   macro avg       0.12      0.12      0.09      4600\n",
      "weighted avg       0.23      0.34      0.20      4600\n",
      "\n"
     ]
    },
    {
     "name": "stderr",
     "output_type": "stream",
     "text": [
      "c:\\Users\\vihaa\\Documents\\GitHub (not onedrive)\\Sentiment-Analysis\\.venv\\Lib\\site-packages\\sklearn\\metrics\\_classification.py:1565: UndefinedMetricWarning: Precision is ill-defined and being set to 0.0 in labels with no predicted samples. Use `zero_division` parameter to control this behavior.\n",
      "  _warn_prf(average, modifier, f\"{metric.capitalize()} is\", len(result))\n",
      "c:\\Users\\vihaa\\Documents\\GitHub (not onedrive)\\Sentiment-Analysis\\.venv\\Lib\\site-packages\\sklearn\\metrics\\_classification.py:1565: UndefinedMetricWarning: Precision is ill-defined and being set to 0.0 in labels with no predicted samples. Use `zero_division` parameter to control this behavior.\n",
      "  _warn_prf(average, modifier, f\"{metric.capitalize()} is\", len(result))\n",
      "c:\\Users\\vihaa\\Documents\\GitHub (not onedrive)\\Sentiment-Analysis\\.venv\\Lib\\site-packages\\sklearn\\metrics\\_classification.py:1565: UndefinedMetricWarning: Precision is ill-defined and being set to 0.0 in labels with no predicted samples. Use `zero_division` parameter to control this behavior.\n",
      "  _warn_prf(average, modifier, f\"{metric.capitalize()} is\", len(result))\n"
     ]
    }
   ],
   "source": [
    "from sklearn.naive_bayes import MultinomialNB\n",
    "from sklearn.metrics import classification_report, accuracy_score\n",
    "\n",
    "model = MultinomialNB()\n",
    "model.fit(train_count, train_raw_ratings.astype(int))\n",
    "\n",
    "test_predictions = model.predict(test_count)\n",
    "\n",
    "print(\"Test Set Evaluation:\")\n",
    "print(\"Accuracy:\", accuracy_score(test_raw_ratings.astype(int), test_predictions))\n",
    "print(\"\\nClassification Report:\")\n",
    "print(classification_report(test_raw_ratings.astype(int), test_predictions))"
   ]
  }
 ],
 "metadata": {
  "kernelspec": {
   "display_name": ".venv",
   "language": "python",
   "name": "python3"
  },
  "language_info": {
   "codemirror_mode": {
    "name": "ipython",
    "version": 3
   },
   "file_extension": ".py",
   "mimetype": "text/x-python",
   "name": "python",
   "nbconvert_exporter": "python",
   "pygments_lexer": "ipython3",
   "version": "3.11.9"
  }
 },
 "nbformat": 4,
 "nbformat_minor": 2
}
