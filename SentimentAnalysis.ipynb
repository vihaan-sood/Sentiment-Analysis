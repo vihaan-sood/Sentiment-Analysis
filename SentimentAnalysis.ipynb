{
 "cells": [
  {
   "cell_type": "markdown",
   "metadata": {},
   "source": [
    "Using the drug-review dataset found at https://www.kaggle.com/datasets/mohamedabdelwahabali/drugreview?resource=download"
   ]
  },
  {
   "cell_type": "code",
   "execution_count": 120,
   "metadata": {},
   "outputs": [],
   "source": [
    "#pip install numpy pandas nltk cupy scikit-learn spacy\n",
    "#python -m spacy download en_core_web_sm"
   ]
  },
  {
   "cell_type": "code",
   "execution_count": 121,
   "metadata": {},
   "outputs": [
    {
     "name": "stdout",
     "output_type": "stream",
     "text": [
      "(11000, 2)\n",
      "(4600, 2)\n",
      "(2700, 2)\n"
     ]
    }
   ],
   "source": [
    "import numpy as np\n",
    "import pandas as pd\n",
    "\n",
    "\n",
    "train_raw = pd.read_csv(\"archive/drug_review_train.csv\", usecols=[\"review\", \"rating\"]).to_numpy()\n",
    "test_raw = pd.read_csv(\"archive/drug_review_test.csv\", usecols=[\"review\", \"rating\"]).to_numpy()\n",
    "val_raw = pd.read_csv(\"archive/drug_review_validation.csv\", usecols=[\"review\", \"rating\"]).to_numpy()\n",
    "\n",
    "train_raw = train_raw[:11000]       #using 10% of dataset, maintaing rough ratios \n",
    "test_raw = test_raw[:4600]  \n",
    "val_raw = val_raw[:2700]  \n",
    "\n",
    "print(train_raw.shape)\n",
    "print(test_raw.shape)\n",
    "print(val_raw.shape)"
   ]
  },
  {
   "cell_type": "code",
   "execution_count": 122,
   "metadata": {},
   "outputs": [
    {
     "name": "stdout",
     "output_type": "stream",
     "text": [
      "\"i have used restasis for about a year now and have seen almost no progress.  for most of my life i've had red and bothersome eyes. after trying various eye drops, my doctor recommended restasis.  he said it typically takes 3 to 6 months for it to really kick in but it never did kick in.  when i put the drops in it burns my eyes for the first 30 - 40 minutes.  i've talked with my doctor about this and he said it is normal but should go away after some time, but it hasn't. every year around spring time my eyes get terrible irritated  and this year has been the same (maybe even worse than other years) even though i've been using restasis for a year now. the only difference i notice was for the first couple weeks, but now i'm ready to move on.\"\n",
      "[-1 1 -1 1 1 -1 1 1 1 -1 0 -1 -1 -1 1 1 -1 -1 1 1 1 1 1 1 1 -1 1 1 1 -1 -1\n",
      " -1 1 0 0 1 1 1 0 1 -1 1 -1 0 1 1 1 1 1 1 -1 -1 1 -1 1 -1 1 1 0 1 -1 -1 -1\n",
      " 1 1 1 1 1 1 1 1 1 -1 -1 1 1 1 1 1 1 -1 1 -1 1 -1 1 1 0 1 1 1 -1 1 1 1 1\n",
      " -1 1 1 0]\n"
     ]
    }
   ],
   "source": [
    "def seperate_ratings_and_text(data):\n",
    "    text = data[:,0]\n",
    "    ratings = data[:,1]\n",
    "    return text,ratings\n",
    "\n",
    "\n",
    "train_raw_text,train_raw_ratings = seperate_ratings_and_text(train_raw)\n",
    "test_raw_text,test_raw_ratings = seperate_ratings_and_text(test_raw)\n",
    "val_raw_text,val_raw_ratings = seperate_ratings_and_text(val_raw)\n",
    "\n",
    "\n",
    "def convert_rating_to_sentiment(rating_list):\n",
    "\n",
    "    for i in range(len(rating_list)):\n",
    "        rating = int(rating_list[i] )\n",
    "        if rating >= 7:\n",
    "            rating_list[i] = 1\n",
    "        elif rating <= 4:\n",
    "            rating_list[i] = -1\n",
    "        else:\n",
    "            rating_list[i] = 0\n",
    "\n",
    "    return rating_list\n",
    "\n",
    "convert_rating_to_sentiment(train_raw_ratings)\n",
    "convert_rating_to_sentiment(test_raw_ratings)\n",
    "convert_rating_to_sentiment(val_raw_ratings)\n",
    "\n",
    "print(train_raw_text[0])\n",
    "print(train_raw_ratings[0:100])"
   ]
  },
  {
   "cell_type": "code",
   "execution_count": 123,
   "metadata": {},
   "outputs": [
    {
     "name": "stdout",
     "output_type": "stream",
     "text": [
      "i have used restasis for about a year now and have seen almost no progress for most of my life ive had red and bothersome eyes after trying various eye drops my doctor recommended restasis he said it typically takes 3 to 6 months for it to really kick in but it never did kick in when i put the drops in it burns my eyes for the first 30 40 minutes ive talked with my doctor about this and he said it is normal but should go away after some time but it hasnt every year around spring time my eyes get terrible irritated and this year has been the same maybe even worse than other years even though ive been using restasis for a year now the only difference i notice was for the first couple weeks but now im ready to move on\n"
     ]
    }
   ],
   "source": [
    "import re\n",
    "\n",
    "def clean_review(review):\n",
    "    review = re.sub(r\"[^a-zA-Z0-9\\s]\", \"\", review)\n",
    "    review = re.sub(r\"\\s+\", \" \", review) \n",
    "    review = review.lower()\n",
    "    return review\n",
    "\n",
    "def clean_text(text_list):\n",
    "    cleaned_sentences = [clean_review(sentence) for sentence in text_list]\n",
    "    return np.array(cleaned_sentences)\n",
    "\n",
    "\n",
    "\n",
    "train_cleaned = clean_text(train_raw_text)\n",
    "test_cleaned = clean_text(test_raw_text)\n",
    "val_cleaned = clean_text(val_raw_text)\n",
    "\n",
    "print(train_cleaned[0])"
   ]
  },
  {
   "cell_type": "code",
   "execution_count": 124,
   "metadata": {},
   "outputs": [],
   "source": [
    "from nltk.corpus import stopwords\n",
    "from nltk.stem import WordNetLemmatizer\n",
    "import spacy\n",
    "\n",
    "nlp = spacy.load(\"en_core_web_sm\")\n",
    "lemmatizer = WordNetLemmatizer()\n",
    "stopWords = set(stopwords.words(\"english\"))\n",
    "\n",
    "#PoS mapping\n",
    "pos_mapping = {\n",
    "    \"NOUN\": \"n\",\n",
    "    \"PROPN\": \"n\",\n",
    "    \"VERB\": \"v\",\n",
    "    \"AUX\": \"v\",\n",
    "    \"ADJ\": \"a\",\n",
    "    \"ADV\": \"r\",\n",
    "}\n",
    "\n",
    "#cache dictionary for lemmatized words with PoS\n",
    "lemmatized_cache = {}\n",
    "\n",
    "def lemmatize_word(word, pos):\n",
    "\n",
    "    key = (word, pos)  #use word and PoS as the key\n",
    "    if key in lemmatized_cache:\n",
    "        return lemmatized_cache[key]\n",
    "\n",
    "    #compute lemmatized form and cache it\n",
    "    lemmatized_word = lemmatizer.lemmatize(word, pos_mapping.get(pos, \"n\"))\n",
    "    lemmatized_cache[key] = lemmatized_word\n",
    "    return lemmatized_word\n",
    "\n",
    "def better_lemmatizer(single_sentence):\n",
    "\n",
    "    #clean the sentence (assuming clean_review is defined)\n",
    "    single_sentence = clean_review(single_sentence)\n",
    "\n",
    "    #get PoS tags for the sentence\n",
    "    text_PoS = nlp(single_sentence)\n",
    "\n",
    "    #remove stopwords, lemmatize\n",
    "    lemmatized_list = [\n",
    "        lemmatize_word(token.text.lower(), token.pos_)\n",
    "        for token in text_PoS\n",
    "        if token.text.lower() not in stopWords\n",
    "    ]\n",
    "\n",
    "    return lemmatized_list\n",
    "\n",
    "def lemmatize(data):\n",
    "\n",
    "    res = []\n",
    "    for i in range(len(data)):\n",
    "        res.append(better_lemmatizer(data[i]))\n",
    "\n",
    "    return res\n",
    "\n",
    "\n",
    "# Example usage\n",
    "train_lem = lemmatize(train_cleaned)  \n",
    "test_lem = lemmatize(test_cleaned)   \n",
    "val_lem = lemmatize(val_cleaned)    \n",
    "\n",
    "\n"
   ]
  },
  {
   "cell_type": "code",
   "execution_count": 125,
   "metadata": {},
   "outputs": [
    {
     "name": "stdout",
     "output_type": "stream",
     "text": [
      "['use restasis year see almost progress life red bothersome eye try various eye drop doctor recommend restasis say typically take 3 6 month really kick never kick put drop burn eye first 30 40 minute talk doctor say normal go away time nt every year around spring time eye get terrible irritated year maybe even bad year even though use restasis year difference notice first couple week ready move', 'experience somewhat mixed use implanon nearly 14 month decide get remove bleed every day day would occasionally stain underwear sheet nt start way first month nt bleed epic two week period everything irregular basically new norm sadly decide get rid implanon endless bleeding mention bleeding usually pretty light bit spot quite period either endless bleeding pretty side effect free except minor acne nt get pregnant yeah butblood lot blood']\n",
      "11000\n",
      "['try antidepressant year citalopram fluoxetine amitriptyline none help depression insomnia anxiety doctor suggest change onto 45 mg mirtazapine medicine save life thankfully side effect especially common weight gain actually lose alot weight still suicidal thought mirtazapine save', 'son crohn disease do well asacol complaint show side effect take many nine tablet per day one time happy result reduce bout diarrhea drastically']\n",
      "4600\n"
     ]
    }
   ],
   "source": [
    "train_lem_str = [\" \".join(row) for row in train_lem]\n",
    "test_lem_str = [\" \".join(row) for row in test_lem]\n",
    "val_lem_str = [\" \".join(row) for row in val_lem]\n",
    "\n",
    "print(train_lem_str[0:2])\n",
    "print(len(train_lem_str))\n",
    "print(test_lem_str[0:2])\n",
    "print(len(test_lem_str))"
   ]
  },
  {
   "cell_type": "code",
   "execution_count": 126,
   "metadata": {},
   "outputs": [],
   "source": [
    "from sklearn.feature_extraction.text import CountVectorizer,TfidfVectorizer\n",
    "\n",
    "vectorizer = TfidfVectorizer()\n",
    "\n",
    "train_count = vectorizer.fit_transform(train_lem_str)\n",
    "test_count = vectorizer.transform(test_lem_str)\n",
    "\n",
    "val_count = vectorizer.transform(val_lem_str)"
   ]
  },
  {
   "cell_type": "code",
   "execution_count": 127,
   "metadata": {},
   "outputs": [
    {
     "name": "stdout",
     "output_type": "stream",
     "text": [
      "['00' '000vl' '002' ... 'zyvox' 'zzzquil' 'zzzzap']\n",
      "(11000, 18333)\n",
      "(4600, 18333)\n",
      "<Compressed Sparse Row sparse matrix of dtype 'float64'\n",
      "\twith 50 stored elements and shape (1, 18333)>\n",
      "  Coords\tValues\n",
      "  (0, 17287)\t0.1094062441966926\n",
      "  (0, 13998)\t0.53971149769392\n",
      "  (0, 18168)\t0.2192733846940654\n",
      "  (0, 14536)\t0.07148619985616349\n",
      "  (0, 2280)\t0.07072963646311754\n",
      "  (0, 13230)\t0.14090077895730918\n",
      "  (0, 9904)\t0.06267706762992739\n",
      "  (0, 13727)\t0.10924295643885365\n",
      "  (0, 3531)\t0.1566897170633486\n",
      "  (0, 6939)\t0.41069077131435683\n",
      "  (0, 16826)\t0.05583356609932102\n",
      "  (0, 17380)\t0.13828876680252752\n",
      "  (0, 6120)\t0.20836529843367796\n",
      "  (0, 5955)\t0.11310052328543818\n",
      "  (0, 13698)\t0.07058950066783623\n",
      "  (0, 14382)\t0.12638188850128967\n",
      "  (0, 16920)\t0.14589576804836055\n",
      "  (0, 16030)\t0.03329853234656989\n",
      "  (0, 10973)\t0.044166633193905465\n",
      "  (0, 13627)\t0.06343130600947355\n",
      "  (0, 9566)\t0.21974752289565577\n",
      "  (0, 11410)\t0.06360263450382807\n",
      "  (0, 13444)\t0.07062944472234116\n",
      "  (0, 3753)\t0.1002650052171129\n",
      "  (0, 7244)\t0.09913398017241373\n",
      "  (0, 1029)\t0.08439495223779436\n",
      "  (0, 1216)\t0.09774011322991977\n",
      "  (0, 10825)\t0.08766500446627025\n",
      "  (0, 16041)\t0.09986250926590073\n",
      "  (0, 11577)\t0.07612338791233376\n",
      "  (0, 7834)\t0.042945524650603153\n",
      "  (0, 2955)\t0.07379362441574837\n",
      "  (0, 16418)\t0.09693457145915894\n",
      "  (0, 11669)\t0.03766213364001486\n",
      "  (0, 6750)\t0.06542819140085329\n",
      "  (0, 2731)\t0.08038958247134581\n",
      "  (0, 15354)\t0.15554725512991832\n",
      "  (0, 7751)\t0.04016984476007295\n",
      "  (0, 16199)\t0.08876771022891214\n",
      "  (0, 9323)\t0.13427306973339234\n",
      "  (0, 10432)\t0.09453442325088933\n",
      "  (0, 6732)\t0.13145449717603627\n",
      "  (0, 3036)\t0.051938074168778964\n",
      "  (0, 16336)\t0.08255956317116947\n",
      "  (0, 5687)\t0.09410505349990694\n",
      "  (0, 11618)\t0.07360867445125895\n",
      "  (0, 4939)\t0.08367859893973836\n",
      "  (0, 17745)\t0.04728247497302006\n",
      "  (0, 13616)\t0.12109895805414979\n",
      "  (0, 11087)\t0.10018389034383379\n"
     ]
    }
   ],
   "source": [
    "print(vectorizer.get_feature_names_out())\n",
    "print(train_count.shape)\n",
    "print(test_count.shape)\n",
    "print(train_count[0])"
   ]
  },
  {
   "cell_type": "code",
   "execution_count": 128,
   "metadata": {},
   "outputs": [
    {
     "name": "stdout",
     "output_type": "stream",
     "text": [
      "Test Set Evaluation:\n",
      "Accuracy: 0.6641304347826087\n",
      "\n",
      "Classification Report:\n",
      "              precision    recall  f1-score   support\n",
      "\n",
      "          -1       1.00      0.00      0.01      1162\n",
      "           0       0.00      0.00      0.00       387\n",
      "           1       0.66      1.00      0.80      3051\n",
      "\n",
      "    accuracy                           0.66      4600\n",
      "   macro avg       0.55      0.33      0.27      4600\n",
      "weighted avg       0.69      0.66      0.53      4600\n",
      "\n"
     ]
    },
    {
     "name": "stderr",
     "output_type": "stream",
     "text": [
      "c:\\Users\\vihaa\\Documents\\GitHub (not onedrive)\\Sentiment-Analysis\\.venv\\Lib\\site-packages\\sklearn\\metrics\\_classification.py:1565: UndefinedMetricWarning: Precision is ill-defined and being set to 0.0 in labels with no predicted samples. Use `zero_division` parameter to control this behavior.\n",
      "  _warn_prf(average, modifier, f\"{metric.capitalize()} is\", len(result))\n",
      "c:\\Users\\vihaa\\Documents\\GitHub (not onedrive)\\Sentiment-Analysis\\.venv\\Lib\\site-packages\\sklearn\\metrics\\_classification.py:1565: UndefinedMetricWarning: Precision is ill-defined and being set to 0.0 in labels with no predicted samples. Use `zero_division` parameter to control this behavior.\n",
      "  _warn_prf(average, modifier, f\"{metric.capitalize()} is\", len(result))\n",
      "c:\\Users\\vihaa\\Documents\\GitHub (not onedrive)\\Sentiment-Analysis\\.venv\\Lib\\site-packages\\sklearn\\metrics\\_classification.py:1565: UndefinedMetricWarning: Precision is ill-defined and being set to 0.0 in labels with no predicted samples. Use `zero_division` parameter to control this behavior.\n",
      "  _warn_prf(average, modifier, f\"{metric.capitalize()} is\", len(result))\n"
     ]
    }
   ],
   "source": [
    "from sklearn.naive_bayes import MultinomialNB\n",
    "from sklearn.metrics import classification_report, accuracy_score\n",
    "\n",
    "model = MultinomialNB()\n",
    "model.fit(train_count, train_raw_ratings.astype(int))\n",
    "\n",
    "test_predictions = model.predict(test_count)\n",
    "\n",
    "print(\"Test Set Evaluation:\")\n",
    "print(\"Accuracy:\", accuracy_score(test_raw_ratings.astype(int), test_predictions))\n",
    "print(\"\\nClassification Report:\")\n",
    "print(classification_report(test_raw_ratings.astype(int), test_predictions))"
   ]
  }
 ],
 "metadata": {
  "kernelspec": {
   "display_name": ".venv",
   "language": "python",
   "name": "python3"
  },
  "language_info": {
   "codemirror_mode": {
    "name": "ipython",
    "version": 3
   },
   "file_extension": ".py",
   "mimetype": "text/x-python",
   "name": "python",
   "nbconvert_exporter": "python",
   "pygments_lexer": "ipython3",
   "version": "3.11.9"
  }
 },
 "nbformat": 4,
 "nbformat_minor": 2
}
